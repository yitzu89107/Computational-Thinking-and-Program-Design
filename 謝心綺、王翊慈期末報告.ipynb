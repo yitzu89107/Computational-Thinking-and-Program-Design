{
  "nbformat": 4,
  "nbformat_minor": 0,
  "metadata": {
    "colab": {
      "name": "謝心綺、王翊慈期末報告.ipynb",
      "provenance": [],
      "collapsed_sections": [],
      "include_colab_link": true
    },
    "kernelspec": {
      "name": "python3",
      "display_name": "Python 3"
    },
    "language_info": {
      "name": "python"
    }
  },
  "cells": [
    {
      "cell_type": "markdown",
      "metadata": {
        "id": "view-in-github",
        "colab_type": "text"
      },
      "source": [
        "<a href=\"https://colab.research.google.com/github/yitzu89107/Computational-Thinking-and-Program-Design/blob/main/%E8%AC%9D%E5%BF%83%E7%B6%BA%E3%80%81%E7%8E%8B%E7%BF%8A%E6%85%88%E6%9C%9F%E6%9C%AB%E5%A0%B1%E5%91%8A.ipynb\" target=\"_parent\"><img src=\"https://colab.research.google.com/assets/colab-badge.svg\" alt=\"Open In Colab\"/></a>"
      ]
    },
    {
      "cell_type": "markdown",
      "metadata": {
        "id": "z3JDqvbbUl9x"
      },
      "source": [
        "公廣二甲  謝心綺A108050055  王翊慈A108050079"
      ]
    },
    {
      "cell_type": "markdown",
      "metadata": {
        "id": "DktJxvavx8Jy"
      },
      "source": [
        "您好，我是世新牙醫的機器小幫手，有什麼需要幫忙的嗎?\n",
        "\n",
        "請問洗牙的費用\n",
        "\n",
        "洗牙費用為100元\n",
        "還有其他項目想一併了解的嗎?\n",
        "\n",
        "牙齒美白是多少呢?\n",
        "\n",
        "牙齒美白費用為600元\n",
        "\n",
        "好我要洗牙和牙齒美白\n",
        "\n",
        "這樣一共是700元\n",
        "請問要幫您預約嗎?\n",
        "\n",
        "好\n",
        "\n",
        "請問大名?\n",
        "李小毛\n",
        "\n",
        "請問出生年月日(西元)?\n",
        "2001.08.03\n",
        "\n",
        "請問身分證字號?\n",
        "F221456982\n",
        "\n",
        "和您確認一下個人資料，李小毛小姐，生日2001.08.03，身份證字號為F221456982\n",
        "請問正確嗎?\n",
        "\n",
        "正確\n",
        "\n",
        "好的，請問想預約何時呢?\n",
        "5/7(五)可以嗎?\n",
        "\n",
        "5/7(五)可以的，請問幾點呢?\n",
        "本診所營業時間為1100-2200\n",
        "\n",
        "下午一點\n",
        "\n",
        "好的!和您確認預約時間為5/7(五)1300\n",
        "服務項目為洗牙與牙齒美白\n",
        "請問正確嗎?\n",
        "\n",
        "正確\n",
        "\n",
        "感謝您的預約，祝您有美好的一天。"
      ]
    },
    {
      "cell_type": "code",
      "metadata": {
        "colab": {
          "base_uri": "https://localhost:8080/"
        },
        "id": "JfGHC-TOlUT-",
        "outputId": "0712d9f8-d4c3-45ab-8a10-8ca992efd930"
      },
      "source": [
        "print(\"你好，我是世新牙醫的機器小幫手\")\n",
        "print(\"有什麼可以幫助你的嗎?我們目前提供的服務項目有:洗牙、補牙、以及牙齒美白。\")\n",
        "service1=input(\"請問您需要什麼樣的服務呢?:\")\n",
        "if service1==\"洗牙\":\n",
        "  price1=100\n",
        "elif service1==\"補牙\":\n",
        "  price1=150\n",
        "elif service1==\"牙齒美白\":\n",
        "  price1=600\n",
        "else:\n",
        "  print(\"輸入錯誤\")\n",
        "\n",
        "print(f\"{service1}，好的，沒問題。{service1}費用為{price1}，還有其他項目想一併了解的嗎?\")\n",
        "service2=input(\"想要詢問的服務項目?:\")\n",
        "if service2==\"洗牙\":\n",
        "  price2=100\n",
        "elif service2==\"補牙\":\n",
        "  price2=150\n",
        "elif service2==\"牙齒美白\":\n",
        "  price2=600\n",
        "else:\n",
        "  print(\"輸入錯誤\")\n",
        "print(f\"{service2}，好的，沒問題。{service2}的費用為{price2}\")\n",
        "\n",
        "total=(price1+price2)\n",
        "print(f\"服務總金額為{total}\")\n",
        "\n",
        "print(\"請問大名?\")\n",
        "name=input(\"姓名?:\")\n",
        "print(\"請問出生年月日(西元)?:\")\n",
        "birthday=input(\"生日?:\")\n",
        "print(\"請問身分證字號?:\" )\n",
        "ID=input(\"號碼?:\")\n",
        "\n",
        "print(f\"和您確認一下個人資料,{name}先生/小姐,生日{birthday},身分證字號為{ID}\")\n",
        "print(\"請問想預約何時呢?本診所營業時間為每周一到周六11:00-22:00，周日公休。\")\n",
        "date=input(\"預約日期:\")\n",
        "print(f\"好的!和您確認預約時間為{date} 服務項目為{service1}與{service2}。\")\n",
        "print(\"感謝您的預約，祝您有美好的一天。\")"
      ],
      "execution_count": null,
      "outputs": [
        {
          "output_type": "stream",
          "text": [
            "你好，我是世新牙醫的機器小幫手\n",
            "有什麼可以幫助你的嗎?我們目前提供的服務項目有:洗牙、補牙、以及牙齒美白。\n",
            "請問您需要什麼樣的服務呢?:牙齒美白\n",
            "牙齒美白，好的，沒問題。牙齒美白費用為600，還有其他項目想一併了解的嗎?\n",
            "想要詢問的服務項目?:洗牙\n",
            "洗牙，好的，沒問題。洗牙的費用為100\n",
            "服務總金額為700\n",
            "請問大名?\n",
            "姓名?:謝\n",
            "請問出生年月日(西元)?:\n",
            "生日?:20010803\n",
            "請問身分證字號?:\n",
            "號碼?:123456789\n",
            "和您確認一下個人資料,謝先生/小姐,生日20010803,身分證字號為123456789\n",
            "請問想預約何時呢?本診所營業時間為每周一到周六11:00-22:00，周日公休。\n",
            "預約日期:5/250200\n",
            "好的!和您確認預約時間為5/250200 服務項目為牙齒美白與洗牙。\n",
            "感謝您的預約，祝您有美好的一天。\n"
          ],
          "name": "stdout"
        }
      ]
    }
  ]
}