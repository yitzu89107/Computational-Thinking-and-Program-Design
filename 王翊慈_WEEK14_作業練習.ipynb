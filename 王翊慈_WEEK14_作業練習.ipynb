{
  "nbformat": 4,
  "nbformat_minor": 0,
  "metadata": {
    "colab": {
      "name": "王翊慈-WEEK14-作業練習.ipynb",
      "provenance": [],
      "authorship_tag": "ABX9TyO33uSQAXtBm0XxShn+muvR",
      "include_colab_link": true
    },
    "kernelspec": {
      "name": "python3",
      "display_name": "Python 3"
    },
    "language_info": {
      "name": "python"
    }
  },
  "cells": [
    {
      "cell_type": "markdown",
      "metadata": {
        "id": "view-in-github",
        "colab_type": "text"
      },
      "source": [
        "<a href=\"https://colab.research.google.com/github/yitzu89107/Computational-Thinking-and-Program-Design/blob/main/%E7%8E%8B%E7%BF%8A%E6%85%88_WEEK14_%E4%BD%9C%E6%A5%AD%E7%B7%B4%E7%BF%92.ipynb\" target=\"_parent\"><img src=\"https://colab.research.google.com/assets/colab-badge.svg\" alt=\"Open In Colab\"/></a>"
      ]
    },
    {
      "cell_type": "markdown",
      "metadata": {
        "id": "7prPejdSBDFD"
      },
      "source": [
        "# 課後作業\n"
      ]
    },
    {
      "cell_type": "markdown",
      "metadata": {
        "id": "Z5E6A9l7BiHP"
      },
      "source": [
        "棒打老虎雞吃蟲"
      ]
    },
    {
      "cell_type": "code",
      "metadata": {
        "colab": {
          "base_uri": "https://localhost:8080/"
        },
        "id": "bYfROfA5B2MY",
        "outputId": "a855d424-9220-4416-b09b-d8c3c43d33fc"
      },
      "source": [
        "my_choice=int(input(\"請出拳 [0]蟲 [1]雞 [2]老虎 [3]棒子\"))\n",
        "print(\"你出的拳:\",my_choice)\n",
        "import random\n",
        "com_choice=random.randint(0,3)\n",
        "print(\"電腦出的拳:\",com_choice)\n",
        "\n",
        "if my_choice==(com_choice+1)%4:\n",
        "  print(\"我贏了\")\n",
        "elif com_choice==(my_choice+1)%4:\n",
        "  print(\"電腦贏了\")\n",
        "else:\n",
        "  print(\"平手\")"
      ],
      "execution_count": 6,
      "outputs": [
        {
          "output_type": "stream",
          "text": [
            "請出拳 [0]蟲 [1]雞 [2]老虎 [3]棒子1\n",
            "你出的拳: 1\n",
            "電腦出的拳: 3\n",
            "平手\n"
          ],
          "name": "stdout"
        }
      ]
    }
  ]
}