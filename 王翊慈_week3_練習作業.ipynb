{
  "nbformat": 4,
  "nbformat_minor": 0,
  "metadata": {
    "colab": {
      "name": "王翊慈-week3-練習作業.ipynb",
      "provenance": [],
      "authorship_tag": "ABX9TyMOzWdw0/N+W0Y2+J+MWW8a",
      "include_colab_link": true
    },
    "kernelspec": {
      "name": "python3",
      "display_name": "Python 3"
    }
  },
  "cells": [
    {
      "cell_type": "markdown",
      "metadata": {
        "id": "view-in-github",
        "colab_type": "text"
      },
      "source": [
        "<a href=\"https://colab.research.google.com/github/yitzu89107/Computational-Thinking-and-Program-Design/blob/main/%E7%8E%8B%E7%BF%8A%E6%85%88_week3_%E7%B7%B4%E7%BF%92%E4%BD%9C%E6%A5%AD.ipynb\" target=\"_parent\"><img src=\"https://colab.research.google.com/assets/colab-badge.svg\" alt=\"Open In Colab\"/></a>"
      ]
    },
    {
      "cell_type": "code",
      "metadata": {
        "id": "dHGl_kcTMyM2"
      },
      "source": [
        ""
      ],
      "execution_count": null,
      "outputs": []
    },
    {
      "cell_type": "markdown",
      "metadata": {
        "id": "MPO3KFqtNf8y"
      },
      "source": [
        "#隨堂練習"
      ]
    },
    {
      "cell_type": "markdown",
      "metadata": {
        "id": "gg8x4bUaNWHp"
      },
      "source": [
        ""
      ]
    },
    {
      "cell_type": "code",
      "metadata": {
        "colab": {
          "base_uri": "https://localhost:8080/"
        },
        "id": "AUqk9ujdOEeY",
        "outputId": "f68f138e-8163-46de-f98d-2a5efc4ea3d6"
      },
      "source": [
        "print(1+1)"
      ],
      "execution_count": 1,
      "outputs": [
        {
          "output_type": "stream",
          "text": [
            "2\n"
          ],
          "name": "stdout"
        }
      ]
    },
    {
      "cell_type": "markdown",
      "metadata": {
        "id": "mTALYmPIV0ng"
      },
      "source": [
        "1.用電腦解決問題\r\n",
        "\r\n",
        "2.程式語言是人跟電腦溝通的媒介\r\n",
        "\r\n",
        "3.運算思維4基石(問題拆解、抽象化、模式辨識、演算法)"
      ]
    },
    {
      "cell_type": "markdown",
      "metadata": {
        "id": "wObT5llTOiqv"
      },
      "source": [
        "課後練習"
      ]
    },
    {
      "cell_type": "code",
      "metadata": {
        "id": "6XYmziKzOrZP"
      },
      "source": [
        "從一則新聞報導，提出你對公廣系學生為什麼要學「運算思維與程式設計」的見解。（告訴我新聞連結，以及你的觀點即可。）\r\n",
        "\r\n",
        "新聞連結:https://www.managertoday.com.tw/articles/view/55799\r\n",
        "在最近的一堂課哩，老師也告訴我們廣告存在的目的就是要解決問題，這點跟我們課堂的宗旨不謀而合，身公廣系的學生我們大多數都比較跳躍式思考，所以邏輯的縝密型思考是我們必須去學習的。\r\n",
        "而我對於這堂課的自我要求，便是希望透過另一種思考方式，補足自己在思考時的漏洞。在進行每個創意發想的時候，除了需要依靠對生活的觀察外，更重要的是從大數據中找到消費者真正的需要，\r\n",
        "打造一個能打動消費者的廣告，讓消費者心甘情願地付出行動購買。\r\n"
      ],
      "execution_count": null,
      "outputs": []
    }
  ]
}