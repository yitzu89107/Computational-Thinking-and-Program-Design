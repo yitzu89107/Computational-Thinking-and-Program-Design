{
  "nbformat": 4,
  "nbformat_minor": 0,
  "metadata": {
    "colab": {
      "name": "week8 A108050079王翊慈.ipynb",
      "provenance": [],
      "authorship_tag": "ABX9TyObcIkmp+68plBf/9o0X7ss",
      "include_colab_link": true
    },
    "kernelspec": {
      "name": "python3",
      "display_name": "Python 3"
    },
    "language_info": {
      "name": "python"
    }
  },
  "cells": [
    {
      "cell_type": "markdown",
      "metadata": {
        "id": "view-in-github",
        "colab_type": "text"
      },
      "source": [
        "<a href=\"https://colab.research.google.com/github/yitzu89107/Computational-Thinking-and-Program-Design/blob/main/week8_A108050079%E7%8E%8B%E7%BF%8A%E6%85%88.ipynb\" target=\"_parent\"><img src=\"https://colab.research.google.com/assets/colab-badge.svg\" alt=\"Open In Colab\"/></a>"
      ]
    },
    {
      "cell_type": "markdown",
      "metadata": {
        "id": "RDH6DKa-bJtc"
      },
      "source": [
        "基本程式設計(應用篇)"
      ]
    },
    {
      "cell_type": "code",
      "metadata": {
        "colab": {
          "base_uri": "https://localhost:8080/"
        },
        "id": "THnFRWbCbVr0",
        "outputId": "4f935ded-518a-4206-ed4a-3e2fc87365fd"
      },
      "source": [
        "##Input\n",
        "a=13\n",
        "b=11\n",
        "##Process\n",
        "t=a\n",
        "a=b\n",
        "b=t\n",
        "##Output\n",
        "print(\"a=\",a,\"b=\",b)"
      ],
      "execution_count": 5,
      "outputs": [
        {
          "output_type": "stream",
          "text": [
            "a= 11 b= 13\n"
          ],
          "name": "stdout"
        }
      ]
    },
    {
      "cell_type": "code",
      "metadata": {
        "id": "J6b1cfpEbaWg"
      },
      "source": [
        "##Input\n",
        "a=int(input(\"Enter a number\"))\n",
        "b=int(input(\"Enter a number\"))\n",
        "c=int(input(\"Enter a number\"))\n",
        "d=int(input(\"Enter a number\"))\n",
        "e=int(input(\"Enter a number\"))\n",
        "f=int(input(\"Enter a number\"))\n",
        "##Process\n",
        "a=a//3\n",
        "b=b+a\n",
        "c=c+b\n",
        "##Output"
      ],
      "execution_count": null,
      "outputs": []
    },
    {
      "cell_type": "code",
      "metadata": {
        "colab": {
          "base_uri": "https://localhost:8080/",
          "height": 131
        },
        "id": "wKzNcgCcgIF3",
        "outputId": "7a246dae-a674-41f6-fbba-473562c881e4"
      },
      "source": [
        "##Input\n",
        "a,b,c,d,e,f=eavl(input(\"Enter a number\"))\n",
        "\n",
        "##Process+Output\n",
        "a=a//3；b=b+a；f=f+a\n",
        "print(f\"a={a} b={b} c={c} d={d} e={e} f={f}\")\n",
        "\n",
        "b=b//3；a=a+b；c=c+b\n",
        "print(f\"a={a} b={b} c={c} d={d} e={e} f={f}\")\n",
        "\n",
        "c=c//3；b=b+c；d=d+c\n",
        "print(f\"a={a} b={b} c={c} d={d} e={e} f={f}\")\n",
        "\n",
        "d=d//3；c=c+d；e=e+d\n",
        "print(f\"a={a} b={b} c={c} d={d} e={e} f={f}\")\n",
        "\n",
        "e=e//3；d=d+e；f=f+e\n",
        "print(f\"a={a} b={b} c={c} d={d} e={e} f={f}\")\n",
        "\n",
        "f=f//3；e=e+f；a=a+f\n",
        "print(f\"a={a} b={b} c={c} d={d} e={e} f={f}\")\n"
      ],
      "execution_count": 51,
      "outputs": [
        {
          "output_type": "error",
          "ename": "SyntaxError",
          "evalue": "ignored",
          "traceback": [
            "\u001b[0;36m  File \u001b[0;32m\"<ipython-input-51-2192e3ab1c10>\"\u001b[0;36m, line \u001b[0;32m5\u001b[0m\n\u001b[0;31m    a=a//3；b=b+a；f=f+a\u001b[0m\n\u001b[0m           ^\u001b[0m\n\u001b[0;31mSyntaxError\u001b[0m\u001b[0;31m:\u001b[0m invalid character in identifier\n"
          ]
        }
      ]
    },
    {
      "cell_type": "code",
      "metadata": {
        "id": "v8G7CmqrkOu5",
        "colab": {
          "base_uri": "https://localhost:8080/"
        },
        "outputId": "9fbc350b-eba6-4ef2-f513-36fbff0a768c"
      },
      "source": [
        "In [1]: ## Total = P1*Q1 + P2*Q2 + P3*Q3\n",
        "   ...: ## Input Data\n",
        "   ...: cloth = int(input('請輸入上衣數量？')) \n",
        "   ...: trousers = int(input('請輸入褲子數量？'))\n",
        "   ...: vest = int(input('請輸入背心數量？'))\n",
        "   ...: ## Process\n",
        "   ...: total = cloth*300 + trousers*350 + vest*400\n",
        "   ...: ## Output\n",
        "   ...: print('訂購服裝的總金額為', total)"
      ],
      "execution_count": 40,
      "outputs": [
        {
          "output_type": "stream",
          "text": [
            "請輸入上衣數量？85\n",
            "請輸入褲子數量？63\n",
            "請輸入背心數量？33\n",
            "訂購服裝的總金額為 60750\n"
          ],
          "name": "stdout"
        }
      ]
    },
    {
      "cell_type": "code",
      "metadata": {
        "colab": {
          "base_uri": "https://localhost:8080/"
        },
        "id": "aQnlXRwfmySv",
        "outputId": "8a854c01-1ed8-4b70-bd65-e3853d2d327e"
      },
      "source": [
        "##求三數總和與平均\n",
        "##Input\n",
        "x,y,z=eval(input(\"Enter your score\"))\n",
        "##Process\n",
        "Sum=x+y+z\n",
        "Average=Sum/3\n",
        "##Output\n",
        "print(f\"Total score is {Sum} and average score is{Average}\")"
      ],
      "execution_count": 33,
      "outputs": [
        {
          "output_type": "stream",
          "text": [
            "Enter your score88,89,89\n",
            "Total score is 266 and average score is88.66666666666667\n"
          ],
          "name": "stdout"
        }
      ]
    },
    {
      "cell_type": "code",
      "metadata": {
        "colab": {
          "base_uri": "https://localhost:8080/"
        },
        "id": "yJniBfzmoqJ7",
        "outputId": "829ec31e-d5d7-4652-b232-ee41a672318e"
      },
      "source": [
        "In [1]: ## Total = 200 * 幾打 ＋ 20 ＊ 罐\n",
        "   ...: ## Input Data\n",
        "   ...: cans = int(input('請輸入購買飲料的罐數？')) #數字轉文字\n",
        "   ...: ## Process\n",
        "   ...: total = (cans//12)*200 + (cans%12)*20\n",
        "   ...: ## Output\n",
        "   ...: print('需花費', total)"
      ],
      "execution_count": 39,
      "outputs": [
        {
          "output_type": "stream",
          "text": [
            "請輸入購買飲料的罐數？20\n",
            "需花費 360\n"
          ],
          "name": "stdout"
        }
      ]
    },
    {
      "cell_type": "markdown",
      "metadata": {
        "id": "WIPsH46RvpgT"
      },
      "source": [
        ""
      ]
    },
    {
      "cell_type": "markdown",
      "metadata": {
        "id": "DWRoWIuivphZ"
      },
      "source": [
        "4-2-1. 抽象化 - 電影魔球"
      ]
    },
    {
      "cell_type": "code",
      "metadata": {
        "id": "y3c3UvmWvq1Q"
      },
      "source": [
        "In [1]: ## 1. 從IMBD電影資料庫找出要記錄的魔球電影相關資訊\n",
        "   ...: ## 網址：https://www.imdb.com/title/tt1210166/\n",
        "   ...: ## 相關資訊：電影名稱、放映日期......\n",
        "   ...: \n",
        "   ...: ## 2. 在Python用變數儲存資訊\n",
        "   ...: movie_title = \"money ball\" # 電影名稱\n",
        "   ...: release_year = \"2011\"  # 放映日期\n",
        "   ...: movie_time_min = 133 # 片長\n",
        "   ...: movie_rating = 7.6 #評分\n",
        "   ...: \n",
        "   ...: director = \"Bennett Miller\" # 導演\n",
        "   ...: stars_1 = \"Brad Pitt\" #主要演員\n",
        "   ...: stars_2 = \"Robin Wright\"\n",
        "   ...: stars_3 = \"Jonah Hill\" \n",
        "   ...: \n",
        "   ...: like = 1 # 你喜不喜歡\n",
        "   ...: \n",
        "   ...: ## 3. 印出魔球電影的相關資訊\n",
        "   ...: print(movie_title)  # 螢幕列印\n",
        "   ...: print(release_year)\n",
        "   ...: print(movie_time_min)\n",
        "money ball\n",
        "2011\n",
        "133"
      ],
      "execution_count": null,
      "outputs": []
    },
    {
      "cell_type": "markdown",
      "metadata": {
        "id": "v3qa87DpvuUr"
      },
      "source": [
        "4-2-2. 演算法 - 時間轉換"
      ]
    },
    {
      "cell_type": "code",
      "metadata": {
        "id": "ls8uW81lv2xC"
      },
      "source": [
        "In [5]: # 將123分鐘轉成2小時3分鐘\n",
        "   ...: ## 1. 建立變數，輸入資料並儲存\n",
        "   ...: time = 123\n",
        "   ...: \n",
        "   ...: ## 2. 方法（一）\n",
        "   ...: ## 變數轉換為小時數\n",
        "   ...: hours = time/60 # 123/60 = 2.05\n",
        "   ...: hours1 = int(hours) #取整數為「時」\n",
        "   ...: \n",
        "   ...: ## 取得轉換後的分鐘數\n",
        "   ...: minutes = hours1 - hours #2.05-2 = 0.05\n",
        "   ...: minutes1 = round(minutes*60) # 0.05*60 = 3，但要四捨五入 \n",
        "   ...: \n",
        "   ...: ## 3. 顯示結果\n",
        "   ...: print(time, \"is equal to\", hours1, \"Hours and\", minutes1, \"Minutes\")\n",
        "123 is equal to 2 Hours and -3 Minutes"
      ],
      "execution_count": null,
      "outputs": []
    },
    {
      "cell_type": "code",
      "metadata": {
        "id": "DWKXEQbmv6Q7"
      },
      "source": [
        "In [6]: # 1. 建立變數，輸入資料並儲存\n",
        "   ...: time = 123\n",
        "   ...: \n",
        "   ...: # 2. 方法（二）運算子\n",
        "   ...: hours2 = time // 60  #商數為小時數\n",
        "   ...: minutes2 = time % 60  #餘數為分鐘數\n",
        "   ...: \n",
        "   ...: # 3. 顯示結果\n",
        "   ...: print(time, \"is equal to\", hours2, \"Hours and\", minutes2, \"Minutes\")\n",
        "123 is equal to 2 Hours and 3 Minutes\n"
      ],
      "execution_count": null,
      "outputs": []
    }
  ]
}