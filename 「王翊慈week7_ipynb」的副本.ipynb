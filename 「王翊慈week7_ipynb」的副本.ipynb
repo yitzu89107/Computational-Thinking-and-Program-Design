{
  "nbformat": 4,
  "nbformat_minor": 0,
  "metadata": {
    "colab": {
      "name": "「王翊慈week7.ipynb」的副本",
      "provenance": [],
      "authorship_tag": "ABX9TyPdpHbr7GTmJei6K7ITkLwf",
      "include_colab_link": true
    },
    "kernelspec": {
      "name": "python3",
      "display_name": "Python 3"
    },
    "language_info": {
      "name": "python"
    }
  },
  "cells": [
    {
      "cell_type": "markdown",
      "metadata": {
        "id": "view-in-github",
        "colab_type": "text"
      },
      "source": [
        "<a href=\"https://colab.research.google.com/github/yitzu89107/Computational-Thinking-and-Program-Design/blob/main/%E3%80%8C%E7%8E%8B%E7%BF%8A%E6%85%88week7_ipynb%E3%80%8D%E7%9A%84%E5%89%AF%E6%9C%AC.ipynb\" target=\"_parent\"><img src=\"https://colab.research.google.com/assets/colab-badge.svg\" alt=\"Open In Colab\"/></a>"
      ]
    },
    {
      "cell_type": "code",
      "metadata": {
        "colab": {
          "base_uri": "https://localhost:8080/"
        },
        "id": "buEdWkZihU2Q",
        "outputId": "77f8a3c6-6c04-4b58-c82b-5e116b5382ff"
      },
      "source": [
        "total = 0\n",
        "\n",
        "fruit = \"apple\"\n",
        "number = 2\n",
        "total = total + number\n",
        "# print(\"摘了\",ftuit,\"摘了\",number,\"個，總共摘了\"，total,\"個水果\")\n",
        "print(f\"摘了{fruit}、摘了{number}個，總共摘了{total}個水果\")\n",
        "\n",
        "fruit = \"pear\"\n",
        "number = 1\n",
        "total = total + number\n",
        "# print(\"摘了\",ftuit,\"摘了\",number,\"個，總共摘了\"，total,\"個水果\")\n",
        "print(f\"摘了{fruit}、摘了{number}個，總共摘了{total}個水果\")\n",
        "\n",
        "fruit = \"peach\"\n",
        "number = 3\n",
        "total = total + number\n",
        "# print(\"摘了\",ftuit,\"摘了\",number,\"個，總共摘了\"，total,\"個水果\")\n",
        "print(f\"摘了{fruit}、摘了{number}個，總共摘了{total}個水果\")\n",
        "\n",
        "fruit = \"banana\"\n",
        "number = 6\n",
        "total = total + number\n",
        "# print(\"摘了\",ftuit,\"摘了\",number,\"個，總共摘了\"，total,\"個水果\")\n",
        "print(f\"摘了{fruit}、摘了{number}個，總共摘了{total}個水果\")\n"
      ],
      "execution_count": null,
      "outputs": [
        {
          "output_type": "stream",
          "text": [
            "摘了apple、摘了2個，總共摘了2個水果\n",
            "摘了pear、摘了1個，總共摘了3個水果\n",
            "摘了peach、摘了3個，總共摘了6個水果\n",
            "摘了banana、摘了6個，總共摘了12個水果\n"
          ],
          "name": "stdout"
        }
      ]
    },
    {
      "cell_type": "code",
      "metadata": {
        "colab": {
          "base_uri": "https://localhost:8080/"
        },
        "id": "-Efu6vWFj19A",
        "outputId": "1bdceb5e-ec77-4e50-e787-a3da34b3023c"
      },
      "source": [
        "name=input('請問貴姓大名?')\n",
        "print('你好,',name)"
      ],
      "execution_count": null,
      "outputs": [
        {
          "output_type": "stream",
          "text": [
            "請問貴姓大名?winnie\n",
            "你好, winnie\n"
          ],
          "name": "stdout"
        }
      ]
    },
    {
      "cell_type": "code",
      "metadata": {
        "colab": {
          "base_uri": "https://localhost:8080/"
        },
        "id": "IrLD06gnkafm",
        "outputId": "8609321a-91f1-4c19-9ec3-9f51f3aaadf2"
      },
      "source": [
        "weight=eval(input('請問體重?'))\n",
        "print('體重為',weight)"
      ],
      "execution_count": null,
      "outputs": [
        {
          "output_type": "stream",
          "text": [
            "請問體重?55\n",
            "體重為 55\n"
          ],
          "name": "stdout"
        }
      ]
    },
    {
      "cell_type": "code",
      "metadata": {
        "colab": {
          "base_uri": "https://localhost:8080/"
        },
        "id": "TwKmXORXms0N",
        "outputId": "d8f33623-e3fb-495f-d316-dabfd196bd72"
      },
      "source": [
        "## Input\n",
        "PI = 3.14\n",
        "r1 = input(\"Enter radius 1 :\")\n",
        "r2 = input(\"Enter radius 2 :\")\n",
        "r1 = float(r1)\n",
        "r2 = float(r2)\n",
        "\n",
        "## Process\n",
        "area1 = PI * r1 *r1\n",
        "area2 = PI * r2 *r2\n",
        "area =area1 -area2\n",
        "\n",
        "## Output\n",
        "print(f\"....{area}\")\n"
      ],
      "execution_count": null,
      "outputs": [
        {
          "output_type": "stream",
          "text": [
            "Enter radius 1 :6\n",
            "Enter radius 2 :2\n",
            "....100.47999999999999\n"
          ],
          "name": "stdout"
        }
      ]
    },
    {
      "cell_type": "code",
      "metadata": {
        "colab": {
          "base_uri": "https://localhost:8080/"
        },
        "id": "segQBhGJoExq",
        "outputId": "9c2897ca-ba02-4e2e-a447-db066db42c70"
      },
      "source": [
        "r1=eval(input(\"輸入外圓的直徑:\"))\n",
        "r2=eval(input(\"輸入內圓的直徑:\"))\n",
        "s1=3.14*r1/2*r1/2\n",
        "s2=3.14*r2/2*r1/2\n",
        "s3=s1-s2\n",
        "print(\"外圓面積為\",s1)\n",
        "print(\"內圓面積為\",s2)\n",
        "print(\"圓環面積為\",s3)\n"
      ],
      "execution_count": null,
      "outputs": [
        {
          "output_type": "stream",
          "text": [
            "輸入外圓的直徑:98\n",
            "輸入內圓的直徑:16\n",
            "外圓面積為 7539.14\n",
            "內圓面積為 1230.88\n",
            "圓環面積為 6308.26\n"
          ],
          "name": "stdout"
        }
      ]
    },
    {
      "cell_type": "code",
      "metadata": {
        "colab": {
          "base_uri": "https://localhost:8080/"
        },
        "id": "72sCSCIUqEDv",
        "outputId": "0e90fbe0-e59d-434a-b52c-76a1628fc8da"
      },
      "source": [
        "f =int(input(\"請輸入幾尺\"))\n",
        "i =int(input(\"請輸入幾吋\"))\n",
        "ans =(f*12+i)*2.54\n",
        "print(\"轉換成\",ans,\"公分\")"
      ],
      "execution_count": null,
      "outputs": [
        {
          "output_type": "stream",
          "text": [
            "請輸入幾尺79\n",
            "請輸入幾吋36\n",
            "轉換成 2499.36 公分\n"
          ],
          "name": "stdout"
        }
      ]
    },
    {
      "cell_type": "code",
      "metadata": {
        "colab": {
          "base_uri": "https://localhost:8080/"
        },
        "id": "6TIQyVU_k8X1",
        "outputId": "ce3d2d16-e809-4eb6-cda3-570996e27aa9"
      },
      "source": [
        "radius=float(input('請輸入半徑?'))\n",
        "PI=3.14159\n",
        "circumference=2*PI*radius\n",
        "area=radius*radius*PI\n",
        "print(f\"圓周常為{circumference},圓面積為{area}\")"
      ],
      "execution_count": null,
      "outputs": [
        {
          "output_type": "stream",
          "text": [
            "請輸入半徑?2\n",
            "圓周常為12.56636,圓面積為12.56636\n"
          ],
          "name": "stdout"
        }
      ]
    }
  ]
}