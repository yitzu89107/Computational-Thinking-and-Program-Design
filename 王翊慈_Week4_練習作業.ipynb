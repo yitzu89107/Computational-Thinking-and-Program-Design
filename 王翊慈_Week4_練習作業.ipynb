{
  "nbformat": 4,
  "nbformat_minor": 0,
  "metadata": {
    "colab": {
      "name": "田弘華-Week4-練習作業.ipynb",
      "provenance": [],
      "collapsed_sections": [],
      "include_colab_link": true
    },
    "kernelspec": {
      "display_name": "Python 3",
      "language": "python",
      "name": "python3"
    },
    "language_info": {
      "codemirror_mode": {
        "name": "ipython",
        "version": 3
      },
      "file_extension": ".py",
      "mimetype": "text/x-python",
      "name": "python",
      "nbconvert_exporter": "python",
      "pygments_lexer": "ipython3",
      "version": "3.8.5"
    }
  },
  "cells": [
    {
      "cell_type": "markdown",
      "metadata": {
        "id": "view-in-github",
        "colab_type": "text"
      },
      "source": [
        "<a href=\"https://colab.research.google.com/github/yitzu89107/Computational-Thinking-and-Program-Design/blob/main/%E7%8E%8B%E7%BF%8A%E6%85%88_Week4_%E7%B7%B4%E7%BF%92%E4%BD%9C%E6%A5%AD.ipynb\" target=\"_parent\"><img src=\"https://colab.research.google.com/assets/colab-badge.svg\" alt=\"Open In Colab\"/></a>"
      ]
    },
    {
      "cell_type": "markdown",
      "metadata": {
        "id": "wnyrzAGjhGPU"
      },
      "source": [
        "# 序列主題（一）:變數賦值與輸入輸出"
      ]
    },
    {
      "cell_type": "markdown",
      "metadata": {
        "id": "qto0EG3Y2XVc"
      },
      "source": [
        "## I. 自由練習"
      ]
    },
    {
      "cell_type": "markdown",
      "metadata": {
        "id": "v8MMOAhg6FVQ"
      },
      "source": [
        "**1. 變數賦值**\n",
        "\n",
        "用變數儲存資料，將資料放在電腦記憶體中的某個位置，然後給這個地方一個好名字。"
      ]
    },
    {
      "cell_type": "markdown",
      "metadata": {
        "id": "0IvbHo9y2fnk"
      },
      "source": [
        "**2. 變數三二一**\n",
        "\n",
        "一個特殊符號(等號、名字=資料)，兩種運算方式(運算式與函式)，三種資料型態(文字數字與布林)"
      ]
    },
    {
      "cell_type": "markdown",
      "metadata": {
        "id": "ojk8RUrAhGPW"
      },
      "source": [
        "(1)光有名字不行，要有等號，要有資料；名字在左、資料在右，運算式也可以。"
      ]
    },
    {
      "cell_type": "code",
      "metadata": {
        "id": "r3mqrAVF87Y5"
      },
      "source": [
        "# 練習\n",
        "Sum = 0\n",
        "A = 1\n",
        "2 = B #「=」的左邊是名字，不能放常數。\n",
        "A + B = Sum #「=」的左邊不能是運算式。 \n",
        "A, B = 1, 2 # 這樣寫可以，是Pythonic的寫法。"
      ],
      "execution_count": null,
      "outputs": []
    },
    {
      "cell_type": "code",
      "metadata": {
        "id": "uerYKHqR9C14"
      },
      "source": [
        "Sum = 0\n",
        "A = 1\n",
        "B = 2 #「=」的左邊是名字，不能放常數。\n",
        "Sum = A + B #「=」的左邊不能是運算式。 \n",
        "A, B = 1, 2 # 這樣寫可以，是Pythonic的寫法。"
      ],
      "execution_count": null,
      "outputs": []
    },
    {
      "cell_type": "markdown",
      "metadata": {
        "id": "cKYacmLehGPW"
      },
      "source": [
        "(2)變數的命名，選個好名字。"
      ]
    },
    {
      "cell_type": "markdown",
      "metadata": {
        "id": "E8_TvM0x6Ibe"
      },
      "source": [
        "**3.數字文字布林三種資料類型**\n",
        "\n",
        "整數浮點數、字串、真假。用type()判斷資料類型，用int(),float(),str(), bool()指定資料型態。"
      ]
    },
    {
      "cell_type": "code",
      "metadata": {
        "id": "Ege_NjW99__c"
      },
      "source": [
        "# 練習\r\n",
        "print(87)\r\n",
        "print(8.7)\r\n",
        "\r\n",
        "hello_py1 = 'Hello Python!'\r\n",
        "hello_py2 = \"Hello Python!\"\r\n",
        "print(hello_py1)\r\n",
        "print(hello_py2)\r\n",
        "\r\n",
        "es1 = \"I'm a student.\"\r\n",
        "es2 = \"I\\'m a student.\"\r\n",
        "es3 = 'I\\'m a student.'\r\n",
        "print(es1, es2, es3)\r\n",
        "\r\n",
        "print(True)\r\n",
        "print(False)"
      ],
      "execution_count": null,
      "outputs": []
    },
    {
      "cell_type": "markdown",
      "metadata": {
        "id": "BlzW-KBShGPX"
      },
      "source": [
        "(3)資料類型的判斷用type()"
      ]
    },
    {
      "cell_type": "markdown",
      "metadata": {
        "id": "F_QiVc-4hGPX"
      },
      "source": [
        "(4)資料類型的建立與轉換用int(), float(),str(),bool() "
      ]
    },
    {
      "cell_type": "markdown",
      "metadata": {
        "id": "DArIzBHe6om9"
      },
      "source": [
        "**4.輸入**\n",
        "\n",
        "用input()輸入資料。要有小括號、要有輸入說明、要有等號賦值，儲存的資料為文字字串、做數學運算時需要改變資料類型。"
      ]
    },
    {
      "cell_type": "code",
      "metadata": {
        "id": "HAx_qPWI-enp"
      },
      "source": [
        "# 練習\n",
        "a = input(\"Input number a = \")\n",
        "b = input(\"Input number b = \")\n",
        "print(a, b)\n",
        "print(a + b)\n",
        "print(a + 1)"
      ],
      "execution_count": null,
      "outputs": []
    },
    {
      "cell_type": "code",
      "metadata": {
        "id": "lfH17gjb-4Bw"
      },
      "source": [
        "# 練習\n",
        "a = input(\"Input number a = \")\n",
        "b = input(\"Input number b = \")\n",
        "print(a, b)\n",
        "print(a + b)\n",
        "a = eval(a)\n",
        "print(a + 1)"
      ],
      "execution_count": null,
      "outputs": []
    },
    {
      "cell_type": "markdown",
      "metadata": {
        "id": "3Aof0VJI7Oq6"
      },
      "source": [
        "**5.輸出**\n",
        "\n",
        "print()為螢幕列印。將物件放在小括號中，多個物件以逗號相隔即可。\n",
        "注意分隔、換行等轉義序列用法(\\n, \\t, \\\", \\')。\n",
        "可以使用字串輸出列印，即print(f\"...{variable}...\")"
      ]
    },
    {
      "cell_type": "code",
      "metadata": {
        "id": "mHPoMyCTANrt"
      },
      "source": [
        "# 練習\n",
        "\n",
        "print(\"Hello, Francis\")\n",
        "\n",
        "name = \"Francis\"\n",
        "print(\"Hello, %s\" %name)\n",
        "print(\"Hello, {}\".format(name))\n",
        "print(f\"Hello, {name}\")"
      ],
      "execution_count": null,
      "outputs": []
    },
    {
      "cell_type": "markdown",
      "metadata": {
        "id": "13ZEwX9BNqG4"
      },
      "source": [
        "## II. 隨堂練習"
      ]
    },
    {
      "cell_type": "markdown",
      "metadata": {
        "id": "6AwUda3ZhsZG"
      },
      "source": [
        "**隨堂練習1: 自我介紹**\r\n",
        "\r\n",
        "我們將和電腦一起完成很多工作，並要求它為我們做一堆很酷的事情，所以不妨來個自我介紹，正式打個招呼！\r\n",
        "\r\n",
        "(1)使用print()函數向電腦介紹自己。你的自我介紹應該顯示在主控台視窗裡，中英文均可。\r\n",
        "\r\n",
        "(2)更改現有的print()函數，使用f字串。\r\n",
        "\r\n",
        "請創立兩個變數，name和age；然後為name變數指派你的名字字串，為age變數指派一個數學運算式，計算你的年齡。最後，使用f字串、name和age變數輸出你的簡介到電腦上！\r\n",
        "\r\n",
        "預期輸出範例\r\n",
        "\r\n",
        "\"Hello, My name is Franics. I was bon in 2000.\"\r\n",
        "\r\n",
        "\"Hi, My name is Franics and I am 21 years old!\""
      ]
    },
    {
      "cell_type": "markdown",
      "metadata": {
        "id": "3TUFVF1wiGF8"
      },
      "source": [
        "**隨堂練習2: 引用引文**\r\n",
        "\r\n",
        "在網路上搜尋名言，或者使用你自己的名言。它可以是激勵你的文字、電影中一段有趣的台詞，甚至是家人說的話。"
      ]
    },
    {
      "cell_type": "markdown",
      "metadata": {
        "id": "tKhmRklJiNQ7"
      },
      "source": [
        "**隨堂練習3: 情緒變數**\r\n",
        "\r\n",
        "通常，我們的心情每天每分每秒都在變化。某天我們可能精力充沛，隔天我們可能感覺非常疲憊；或者今天是星期五，大多數的人都非常快樂！無論我們的心情如何，我們都可以使用變數保存它。"
      ]
    },
    {
      "cell_type": "markdown",
      "metadata": {
        "id": "yhT7SEOgigU-"
      },
      "source": [
        "**隨堂練習4: 滑稽故事**\r\n",
        "\r\n",
        "你玩過Mad Libs這種紙上遊戲嗎？這是一個有趣的遊戲，你要求另一個人給你各種類型單字，例如：顏色、數字、形容詞等，並且將這些單字填補到短篇故事中的空白處，當空白處填完畢後，你朗誦整段故事給他們聽，大多時候，這些故事真的變得很滑稽。\r\n",
        "\r\n",
        "大家該做什麼\r\n",
        "\r\n",
        "我們知道可以使用f字串替換字串的某些部分，編寫一個程式，輸出你那荒謬的、來自朋友的故事。以下是開始的步驟：\r\n",
        "\r\n",
        "Step 1: 創立一個新檔來儲存滑稽故事的程式。\r\n",
        "\r\n",
        "Step 2: 創立四到五個不同類型單字的變數。例如下面並儲存這些變數在檔案中。\r\n",
        "\r\n",
        "```\r\n",
        "name = \"\"\r\n",
        "adjective = \"\"\r\n",
        "favorite_snack = \"\"\r\n",
        "number = \"\"\r\n",
        "type_of_tree = \"\"\r\n",
        "```\r\n",
        "\r\n",
        "請注意，我們尚未指派變數的任何值。這裡就是之後填入朋友提供你的單字之處。\r\n",
        "\r\n",
        "Step3: 創立另一個變數保存你的滑稽故事，你可以使用此模版或編寫你自己的模版：\r\n",
        "\r\n",
        "```\r\n",
        "silly_story = f\"\"\"\r\n",
        "Hi, my name is {name}.\r\n",
        "I really like {adjective}{favorite_snack}!\r\n",
        "I like it so much, I try to eat it at least {number} times every day.\r\n",
        "It tastes even better when you eat it under a {type of tree}!\r\n",
        "\"\"\"\r\n",
        "```\r\n",
        "\r\n",
        "Step4: 最後，使用print()函式輸出你的滑稽故事：\r\n",
        "\r\n",
        "```\r\n",
        "print(silly_story)\r\n",
        "```\r\n",
        "\r\n",
        "這樣就完成了！現在去找朋友，要求他們給一些單字（你的變數）。將變數更改為朋友給你的單字，儲存程式然後執行它，看看你的滑稽故事。"
      ]
    },
    {
      "cell_type": "markdown",
      "metadata": {
        "id": "MM_K13L9OGfY"
      },
      "source": [
        "## III. 課後練習"
      ]
    },
    {
      "cell_type": "markdown",
      "metadata": {
        "id": "gWi7UdhNDmpI"
      },
      "source": [
        "**練習3: 變數賦值，小猴子摘水果**\n",
        "\n",
        "有一天，一隻小猴子來到果園裡，牠走道蘋果樹下，看到滿樹的蘋果，就爬上去摘了2個。又看到不滿的地方有一個梨子樹，又大又黃，就丟掉蘋果，爬到梨子樹摘了1個梨子。正準備吃的時候，看到前方又紅又大的桃子樹，就又高高興興地跑到桃樹上，摘了3個桃子。這時傳來小鳥的叫聲，鳥在香蕉樹上，當然就立馬飛奔去摘香蕉，最後吃了6根香蕉。請問這隻猴子摘了多少個水果，手中最後的水果是什麼？請你用Python記錄一下！"
      ]
    },
    {
      "cell_type": "markdown",
      "metadata": {
        "id": "67eb5JKZDvPn"
      },
      "source": [
        "**練習4: 是真的嗎？網路資料不輕信**\n",
        "\n",
        "宣宣這學期開始學習Python，老師和學長姊都說多上網查找相關資料，多多麻煩Google大神找答案，是提升自學能力最好的方法。於是她看到一段與上課有關但老師沒有教的內容，宣宣想看看下面的內容正不正確，你能幫助她嗎？(1)在Python中，用1表示True，用0和其他非1的整數表示False。(2)在Python中，所有物件都可以進行布林測試。"
      ]
    }
  ]
}