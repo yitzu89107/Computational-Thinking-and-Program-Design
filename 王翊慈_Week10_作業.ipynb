{
  "nbformat": 4,
  "nbformat_minor": 0,
  "metadata": {
    "kernelspec": {
      "display_name": "Python 3",
      "language": "python",
      "name": "python3"
    },
    "language_info": {
      "codemirror_mode": {
        "name": "ipython",
        "version": 3
      },
      "file_extension": ".py",
      "mimetype": "text/x-python",
      "name": "python",
      "nbconvert_exporter": "python",
      "pygments_lexer": "ipython3",
      "version": "3.8.5"
    },
    "colab": {
      "name": "王翊慈-Week10-作業.ipynb",
      "provenance": [],
      "include_colab_link": true
    }
  },
  "cells": [
    {
      "cell_type": "markdown",
      "metadata": {
        "id": "view-in-github",
        "colab_type": "text"
      },
      "source": [
        "<a href=\"https://colab.research.google.com/github/yitzu89107/Computational-Thinking-and-Program-Design/blob/main/%E7%8E%8B%E7%BF%8A%E6%85%88_Week10_%E4%BD%9C%E6%A5%AD.ipynb\" target=\"_parent\"><img src=\"https://colab.research.google.com/assets/colab-badge.svg\" alt=\"Open In Colab\"/></a>"
      ]
    },
    {
      "cell_type": "markdown",
      "metadata": {
        "id": "0-t5ztfcj1kN"
      },
      "source": [
        "# 基本程式設計(應用篇)"
      ]
    },
    {
      "cell_type": "markdown",
      "metadata": {
        "id": "4eUPb-ioj1kU"
      },
      "source": [
        "### 4-2 運算思維四個基石"
      ]
    },
    {
      "cell_type": "markdown",
      "metadata": {
        "id": "R7mnUmEwj1kV"
      },
      "source": [
        "#### 4-2-4  問題拆解 - 打造你的聊天機器人"
      ]
    },
    {
      "cell_type": "markdown",
      "metadata": {
        "id": "83bpNg-gj1kV"
      },
      "source": [
        "「哈囉，大家好。我叫Zyxo64，是一個聊天機器人。\n",
        "\n",
        "在嗜好與興趣方面，我很喜歡美食，也喜歡養動物。\n",
        "\n",
        "很高興有機會來到世新大學，請大家多多指教。\n",
        "\n",
        "嗨！妳好，請問大名？：Francis。\n",
        "\n",
        "Francis，很高興認識你。"
      ]
    },
    {
      "cell_type": "code",
      "metadata": {
        "id": "j4IX_WuYj1kV"
      },
      "source": [
        "# 1.聊天機器人自我介紹\n",
        "\n",
        "\n",
        "# 2. 打招呼，取得對方名字\n"
      ],
      "execution_count": null,
      "outputs": []
    },
    {
      "cell_type": "markdown",
      "metadata": {
        "id": "aN8ZXtkvj1kW"
      },
      "source": [
        "抱歉，請問一下今年是西元2021年，那是民國幾年呢？：*110*。\n",
        "\n",
        "對！沒錯，謝謝妳！\n",
        "\n",
        "**Francis**，猜猜看我今年幾歲？ ：**18**。\n",
        "\n",
        "哇！你好聰明，我今年的確*18*。\n",
        "\n",
        "再82年我就100歲了。\n",
        "\n",
        "那時候是西元 2103年，也就是民國192年囉！"
      ]
    },
    {
      "cell_type": "code",
      "metadata": {
        "id": "E-VRzrW-j1kW"
      },
      "source": [
        "# 3. 數學運算\n",
        "## 3-1 從使用者取得今年年份\n",
        "\n",
        "\n",
        "## 3-2 請使用者猜年齡\n",
        "\n",
        "\n",
        "## 3-3 計算聊天機器人滿100歲的年份\n",
        "\n"
      ],
      "execution_count": null,
      "outputs": []
    },
    {
      "cell_type": "markdown",
      "metadata": {
        "id": "be4T6vSdj1kW"
      },
      "source": [
        "我喜歡吃巧克力，也喜歡嘗試各種新食物。\n",
        "\n",
        "你呢？你最喜歡的食物是什麼？**:披薩**。\n",
        "\n",
        "我也喜歡 *披薩*。\n",
        "\n",
        "你多久吃一次 *披薩*？**：每天**。\n",
        "\n",
        "真有趣。不知道這樣對健康好不好。"
      ]
    },
    {
      "cell_type": "code",
      "metadata": {
        "id": "orBE8BA8j1kX"
      },
      "source": [
        "# 4 興趣\n",
        "## 4-1 食物話題\n"
      ],
      "execution_count": null,
      "outputs": []
    },
    {
      "cell_type": "markdown",
      "metadata": {
        "id": "X47yrM5Qj1kX"
      },
      "source": [
        "我最喜歡的動物是長頸鹿。你呢？ **：烏龜**。\n",
        "\n",
        "我不喜歡*烏龜*！\n",
        "\n",
        "不知道 *烏龜* 喜不喜歡吃 *披薩*？"
      ]
    },
    {
      "cell_type": "code",
      "metadata": {
        "id": "-LHwrV7_j1kX"
      },
      "source": [
        "# 4 興趣\n",
        "## 4-2 動物話題\n"
      ],
      "execution_count": null,
      "outputs": []
    },
    {
      "cell_type": "markdown",
      "metadata": {
        "id": "ZkR-NIxSj1kX"
      },
      "source": [
        "你今天的心情如何？ **：很開心**。\n",
        "\n",
        "可以告訴我你 *開心* 的原因嗎？**因為週末了！** \n",
        "\n",
        "祝你週末愉快！\n",
        "\n",
        "我喜歡跟你聊天，現在有點累了，改天再聊吧！！\n",
        "\n",
        "再見 *Francis*！"
      ]
    },
    {
      "cell_type": "code",
      "metadata": {
        "id": "ys1_7mJWj1kY"
      },
      "source": [
        "# 5. 關於心情的對話\n"
      ],
      "execution_count": null,
      "outputs": []
    },
    {
      "cell_type": "markdown",
      "metadata": {
        "id": "CRacmLEGj1kY"
      },
      "source": [
        "我喜歡跟你聊天，現在有點累了，改天再聊吧！！\n",
        "\n",
        "再見 *Francis*！"
      ]
    },
    {
      "cell_type": "code",
      "metadata": {
        "id": "0ReWEPjWj1kY"
      },
      "source": [
        "# 6. 道別\n"
      ],
      "execution_count": null,
      "outputs": []
    },
    {
      "cell_type": "markdown",
      "metadata": {
        "id": "M4pxAn_xj1kY"
      },
      "source": [
        "## 期末報告"
      ]
    },
    {
      "cell_type": "markdown",
      "metadata": {
        "id": "_ADBd2hQj1kY"
      },
      "source": [
        "### 組長(學號姓名):\n",
        "\n"
      ]
    },
    {
      "cell_type": "markdown",
      "metadata": {
        "id": "p--w2SqUt-OJ"
      },
      "source": [
        "A108050055謝心綺"
      ]
    },
    {
      "cell_type": "markdown",
      "metadata": {
        "id": "GTlVzAr1j1kZ"
      },
      "source": [
        "# 組員(學號姓名):\n",
        "A108050079王翊慈\n",
        "\n",
        "\n"
      ]
    },
    {
      "cell_type": "markdown",
      "metadata": {
        "id": "ZUxErMAOj1kZ"
      },
      "source": [
        "# 題目:\n"
      ]
    },
    {
      "cell_type": "markdown",
      "metadata": {
        "id": "k5oenPPvvW2r"
      },
      "source": [
        "牙醫診所預約"
      ]
    },
    {
      "cell_type": "markdown",
      "metadata": {
        "id": "8yPhIgkGj1kZ"
      },
      "source": [
        "### 百字腳本\n",
        "\n"
      ]
    },
    {
      "cell_type": "markdown",
      "metadata": {
        "id": "YBI2vbpRv5Uq"
      },
      "source": [
        "您好，我是世新牙醫的機器小幫手，有什麼需要幫忙的嗎?\n",
        "\n",
        "請問洗牙的費用\n",
        "\n",
        "洗牙費用為100元\n",
        "還有其他項目想一併了解的嗎?\n",
        "\n",
        "牙齒美白是多少呢?\n",
        "\n",
        "牙齒美白費用為600元\n",
        "\n",
        "好我要洗牙和牙齒美白\n",
        "\n",
        "這樣一共是700元\n",
        "請問要幫您預約嗎?\n",
        "\n",
        "好\n",
        "\n",
        "請問大名?\n",
        "李小毛\n",
        "\n",
        "請問出生年月日(西元)?\n",
        "2001.08.03\n",
        "\n",
        "請問身分證字號?\n",
        "F221456982\n",
        "\n",
        "和您確認一下個人資料，李小毛小姐，生日2001.08.03，身份證字號為F221456982\n",
        "請問正確嗎?\n",
        "\n",
        "正確\n",
        "\n",
        "好的，請問想預約何時呢?\n",
        "5/7(五)可以嗎?\n",
        "\n",
        "5/7(五)可以的，請問幾點呢?\n",
        "本診所營業時間為1100-2200\n",
        "\n",
        "下午一點\n",
        "\n",
        "好的!和您確認預約時間為5/7(五)1300\n",
        "服務項目為洗牙與牙齒美白\n",
        "請問正確嗎?\n",
        "\n",
        "正確\n",
        "\n",
        "感謝您的預約，祝您有美好的一天。"
      ]
    },
    {
      "cell_type": "code",
      "metadata": {
        "colab": {
          "base_uri": "https://localhost:8080/"
        },
        "id": "mY3tOlzKoSr_",
        "outputId": "150a1537-086a-486f-a664-5c7fd3f03b9b"
      },
      "source": [
        "print(\"你好，我是世新牙醫的機器小幫手\")#聊天機器人自我介紹\n",
        "print(\"有什麼可以幫助你的嗎?\")\n",
        "service=input(\"需要的服務項目?:\")#顧客輸入服務項目\n",
        "print(f\"{service}，好的，沒問題。{service}費用為100元，還有其他項目想一併了解的嗎?\")\n",
        "service=input(\"想要詢問的服務項目?:\")\n",
        "print(f\"{service}，好的，沒問題。{service}的費用為600元\")\n",
        "\n",
        "#一共服務的價錢\n",
        "\n",
        "print(\"請問大名?\")\n",
        "name=input(\"名字?:\")\n",
        "print(\"請問出生年月日(西元)?:\")\n",
        "birthday=input(\"生日?:\")\n",
        "print(\"請問身分證字號?:\")\n",
        "ID=input(\"號碼?:\")\n",
        "\n",
        "#和您確認一下個人資料，李小毛小姐，生日2001.08.03，身份證字號為F221456982 請問正確嗎?\n",
        "print:\n",
        "\n"
      ],
      "execution_count": 22,
      "outputs": [
        {
          "output_type": "stream",
          "text": [
            "你好，我是世新牙醫的機器小幫手\n",
            "有什麼可以幫助你的嗎?\n",
            "需要的服務項目?:12\n",
            "12，好的，沒問題。12費用為100元，還有其他項目想一併了解的嗎?\n",
            "想要詢問的服務項目?:12\n",
            "12，好的，沒問題。12的費用為600元\n",
            "請問大名?\n",
            "名字?:12\n",
            "請問出生年月日(西元)?:\n",
            "生日?:12\n",
            "請問身分證字號?:\n",
            "號碼?:12\n"
          ],
          "name": "stdout"
        }
      ]
    },
    {
      "cell_type": "markdown",
      "metadata": {
        "id": "qK2S1-B5oTEv"
      },
      "source": [
        ""
      ]
    },
    {
      "cell_type": "code",
      "metadata": {
        "id": "RzfQAMGJoTmX"
      },
      "source": [
        ""
      ],
      "execution_count": null,
      "outputs": []
    },
    {
      "cell_type": "code",
      "metadata": {
        "id": "CA1YvV3osDA5"
      },
      "source": [
        "name=input(\"嗨!你好，請問大名?:\")#顧客輸入服務項目"
      ],
      "execution_count": null,
      "outputs": []
    }
  ]
}